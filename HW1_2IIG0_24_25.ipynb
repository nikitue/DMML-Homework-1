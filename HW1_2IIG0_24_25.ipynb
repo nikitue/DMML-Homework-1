{
 "cells": [
  {
   "cell_type": "code",
   "execution_count": 1,
   "id": "216d9e83",
   "metadata": {},
   "outputs": [],
   "source": [
    "import numpy as np\n",
    "import pandas\n",
    "import math"
   ]
  },
  {
   "cell_type": "markdown",
   "id": "a7eadd07",
   "metadata": {},
   "source": [
    "If possible, update your sklearn version to 1.3.2 to reduce variance in the versions."
   ]
  },
  {
   "cell_type": "code",
   "execution_count": 2,
   "id": "7826208c",
   "metadata": {},
   "outputs": [],
   "source": [
    "#!pip3 install scikit-learn==1.3.2"
   ]
  },
  {
   "cell_type": "code",
   "execution_count": 3,
   "id": "dd0a3fe3",
   "metadata": {},
   "outputs": [
    {
     "name": "stdout",
     "output_type": "stream",
     "text": [
      "The scikit-learn version is 1.4.1.post1.\n"
     ]
    }
   ],
   "source": [
    "import sklearn\n",
    "print('The scikit-learn version is {}.'.format(sklearn.__version__))"
   ]
  },
  {
   "cell_type": "markdown",
   "id": "5be50de0",
   "metadata": {},
   "source": [
    "## Gradient Descent"
   ]
  },
  {
   "cell_type": "markdown",
   "id": "134bfe32",
   "metadata": {},
   "source": [
    "- Functions from description"
   ]
  },
  {
   "cell_type": "code",
   "execution_count": 4,
   "id": "f683ae1e",
   "metadata": {},
   "outputs": [],
   "source": [
    "def sigma(x):\n",
    "    return math.exp(x)/(math.exp(x) + 1) \n",
    "\n",
    "def f(u,v,b):\n",
    "    return -math.log(sigma(u+b)) - math.log(sigma(v+b)) - math.log(sigma(-u/2 - v/2 - b)) + (u**2 + v**2 + b**2)/100"
   ]
  },
  {
   "cell_type": "markdown",
   "id": "efc14974",
   "metadata": {},
   "source": [
    "- Gradient of f is a vector (list in python) consisting of three partial derivatives. Each partial derivative is on one of coordinate of the point (u,v,b)."
   ]
  },
  {
   "cell_type": "code",
   "execution_count": 5,
   "id": "e815987e",
   "metadata": {},
   "outputs": [],
   "source": [
    "#Write only the derivatives of the terms (which is very convenient using sigma) and let the code compute the result of the partial derivative\n",
    "def alt_grad_f(u,v,b):\n",
    "    a_dfu = -sigma(-(u+b)) - 0 + sigma((u+v+2*b)/2)/2 + u/50\n",
    "\n",
    "    a_dfv = -sigma(-(v+b)) - 0 + sigma((u+v+2*b)/2)/2 + v/50\n",
    "\n",
    "    a_dfb = -sigma(-(u+b)) - sigma(-(v+b)) + sigma((u+v+2*b)/2) + b/50\n",
    "\n",
    "    return [a_dfu, a_dfv, a_dfb]"
   ]
  },
  {
   "cell_type": "markdown",
   "id": "20cbe290",
   "metadata": {},
   "source": [
    "Gradient descent function"
   ]
  },
  {
   "cell_type": "code",
   "execution_count": 6,
   "id": "9278b3f0",
   "metadata": {},
   "outputs": [],
   "source": [
    "def gradient_descent(f, grad_f, eta, u_0, v_0, b_0, max_iter=100):\n",
    "    curX = [u_0, v_0, b_0]  #Current point coordinates\n",
    "    best = 1000000000 #Initial best score\n",
    "    min_t = 1 #Initial best step\n",
    "    t = 0\n",
    "    while t < max_iter: \n",
    "        t = t + 1\n",
    "        step_size = eta(t) #Get step size at each iteration\n",
    "        #print(step_size,t)\n",
    "        #Calculate the new points\n",
    "        gradient_result  = grad_f(curX[0],curX[1],curX[2]) \n",
    "        for i in range (3):\n",
    "            curX[i]= curX[i] - step_size * gradient_result[i]\n",
    "        \n",
    "        #Check whether f(u_t,v_t,b_t) is the smaller than the current smallest result\n",
    "        cur_f = f(curX[0],curX[1],curX[2])\n",
    "        #print(cur_f)\n",
    "        if(cur_f < best): \n",
    "            best = cur_f\n",
    "            min_t = t\n",
    "\n",
    "    curX.append(best)\n",
    "    curX.append(min_t) #return u_100, v_100, b_100, smallest result and its t\n",
    "    return curX \n",
    "\n",
    "#Step-size functions\n",
    "def eta_const(t, c=0.2):\n",
    "    return c\n",
    "\n",
    "def eta_sqrt(t,c=0.5):\n",
    "    return c / math.sqrt(t+1)\n",
    "\n",
    "def eta_multistep(t, milestones, c, eta_init):\n",
    "    i = 0\n",
    "    while i < len(milestones):\n",
    "        if(t < milestones[i]):\n",
    "            return eta_init * (c**i)\n",
    "        i+=1\n",
    "    return eta_init * (c**i)\n",
    "\n",
    "#Initial points\n",
    "u_0 = 4\n",
    "v_0 = 2\n",
    "b_0 = 1\n",
    "\n",
    "#Print result\n",
    "def print_result(result):\n",
    "    #print(result)\n",
    "\n",
    "    u_100 = result[0]\n",
    "    v_100 = result[1]\n",
    "    b_100 = result[2]\n",
    "\n",
    "    answer = f(u_100, v_100, b_100)\n",
    "    print(\"f(u_100, v_100, b_100) = \", round(answer,3))\n",
    "    print(\"Min val\", round(result[3],3))"
   ]
  },
  {
   "cell_type": "markdown",
   "id": "6c5e5972",
   "metadata": {},
   "source": [
    "Results"
   ]
  },
  {
   "cell_type": "code",
   "execution_count": 7,
   "id": "30c969c7",
   "metadata": {},
   "outputs": [
    {
     "name": "stdout",
     "output_type": "stream",
     "text": [
      "f(u_100, v_100, b_100) =  1.95\n",
      "Min val 1.95\n"
     ]
    }
   ],
   "source": [
    "#Part A\n",
    "result = gradient_descent(f, alt_grad_f, lambda t: eta_const(t, c=0.2) ,u_0, v_0, b_0, max_iter=100)\n",
    "print_result(result)"
   ]
  },
  {
   "cell_type": "code",
   "execution_count": 8,
   "id": "2623bedb",
   "metadata": {},
   "outputs": [
    {
     "name": "stdout",
     "output_type": "stream",
     "text": [
      "f(u_100, v_100, b_100) =  1.979\n",
      "Min val 1.979\n"
     ]
    }
   ],
   "source": [
    "#Part B\n",
    "result = gradient_descent(f, alt_grad_f, lambda t: eta_sqrt(t, c=0.5) ,u_0, v_0, b_0, max_iter=100)\n",
    "print_result(result)"
   ]
  },
  {
   "cell_type": "code",
   "execution_count": 9,
   "id": "3e094a5d",
   "metadata": {},
   "outputs": [
    {
     "name": "stdout",
     "output_type": "stream",
     "text": [
      "f(u_100, v_100, b_100) =  1.924\n",
      "Min val 1.924\n"
     ]
    }
   ],
   "source": [
    "#Print C\n",
    "result = gradient_descent(f, alt_grad_f, lambda t: eta_multistep(t, milestones=[30,50,80], c=0.5, eta_init=1.0) ,u_0, v_0, b_0, max_iter=100)\n",
    "print_result(result)"
   ]
  },
  {
   "cell_type": "markdown",
   "id": "42cb6571",
   "metadata": {},
   "source": [
    "## Coordinate Descent"
   ]
  },
  {
   "cell_type": "code",
   "execution_count": 10,
   "id": "c19b9206",
   "metadata": {},
   "outputs": [
    {
     "name": "stdout",
     "output_type": "stream",
     "text": [
      "[4.5, 2.5, 2.0]\n"
     ]
    }
   ],
   "source": [
    "def f(x):\n",
    "    return math.exp(x[0]-x[1]+1) + math.exp(x[1]-x[2]+2) + math.exp(x[2]-x[0]+3)\n",
    "\n",
    "#Partial derivative = 0 for x1\n",
    "def argmin_x1(x):\n",
    "    return  (x[2] + x[1] + 2)/2   #(x3 + x2 + 2) / 2\n",
    "\n",
    "#Partial derivative = 0 for x2\n",
    "def argmin_x2(x):\n",
    "    return (x[2] + x[0] - 1)/2    #(x3 + x1 - 1) / 2\n",
    "\n",
    "#Partial derivative = 0 for x3\n",
    "def argmin_x3(x):\n",
    "    return (x[0] + x[1] - 1)/2    #(x1 + x2 - 1) / 2\n",
    "\n",
    "def argmin_result(x):\n",
    "    return [argmin_x1(x),argmin_x2(x),argmin_x3(x)]\n",
    "\n",
    "x0 = [2,3,4]\n",
    "print(argmin_result(x0))"
   ]
  },
  {
   "cell_type": "code",
   "execution_count": 11,
   "id": "32b57e80",
   "metadata": {},
   "outputs": [
    {
     "name": "stdout",
     "output_type": "stream",
     "text": [
      "13.5 1\n",
      "8.75 1\n",
      "10.625 1\n",
      "10.6875 2\n",
      "10.15625 2\n",
      "9.921875 2\n",
      "11.0390625 3\n",
      "9.98046875 3\n",
      "10.009765625 3\n",
      "10.9951171875 4\n",
      "10.00244140625 4\n",
      "9.998779296875 4\n",
      "11.0006103515625 5\n",
      "9.99969482421875 5\n",
      "10.000152587890625 5\n",
      "10.999923706054688 6\n",
      "10.000038146972656 6\n",
      "9.999980926513672 6\n",
      "11.000009536743164 7\n",
      "9.999995231628418 7\n",
      "10.000002384185791 7\n",
      "10.999998807907104 8\n",
      "10.000000596046448 8\n",
      "9.999999701976776 8\n",
      "11.000000149011612 9\n",
      "9.999999925494194 9\n",
      "10.000000037252903 9\n",
      "10.999999981373549 10\n",
      "10.000000009313226 10\n",
      "9.999999995343387 10\n",
      "11.000000002328306 11\n",
      "9.999999998835847 11\n",
      "10.000000000582077 11\n",
      "10.999999999708962 12\n",
      "10.00000000014552 12\n",
      "9.99999999992724 12\n",
      "11.00000000003638 13\n",
      "9.99999999998181 13\n",
      "10.000000000009095 13\n",
      "10.999999999995453 14\n",
      "10.000000000002274 14\n",
      "9.999999999998863 14\n",
      "11.000000000000568 15\n",
      "9.999999999999716 15\n",
      "10.000000000000142 15\n",
      "10.999999999999929 16\n",
      "10.000000000000036 16\n",
      "9.999999999999982 16\n",
      "11.000000000000009 17\n",
      "9.999999999999996 17\n",
      "10.000000000000004 17\n",
      "11.0 18\n",
      "10.000000000000002 18\n",
      "10.0 18\n",
      "11.0 19\n",
      "10.0 19\n",
      "10.0 19\n",
      "11.0 20\n",
      "10.0 20\n",
      "10.0 20\n",
      "11.0 21\n",
      "10.0 21\n",
      "10.0 21\n",
      "11.0 22\n",
      "10.0 22\n",
      "10.0 22\n",
      "11.0 23\n",
      "10.0 23\n",
      "10.0 23\n",
      "11.0 24\n",
      "10.0 24\n",
      "10.0 24\n",
      "11.0 25\n",
      "10.0 25\n",
      "10.0 25\n",
      "11.0 26\n",
      "10.0 26\n",
      "10.0 26\n",
      "11.0 27\n",
      "10.0 27\n",
      "10.0 27\n",
      "11.0 28\n",
      "10.0 28\n",
      "10.0 28\n",
      "11.0 29\n",
      "10.0 29\n",
      "10.0 29\n",
      "11.0 30\n",
      "10.0 30\n",
      "10.0 30\n",
      "11.0 31\n",
      "10.0 31\n",
      "10.0 31\n",
      "11.0 32\n",
      "10.0 32\n",
      "10.0 32\n",
      "11.0 33\n",
      "10.0 33\n",
      "10.0 33\n",
      "11.0 34\n",
      "10.0 34\n",
      "10.0 34\n",
      "11.0 35\n",
      "10.0 35\n",
      "10.0 35\n",
      "11.0 36\n",
      "10.0 36\n",
      "10.0 36\n",
      "11.0 37\n",
      "10.0 37\n",
      "10.0 37\n",
      "11.0 38\n",
      "10.0 38\n",
      "10.0 38\n",
      "11.0 39\n",
      "10.0 39\n",
      "10.0 39\n",
      "11.0 40\n",
      "10.0 40\n",
      "10.0 40\n",
      "11.0 41\n",
      "10.0 41\n",
      "10.0 41\n",
      "11.0 42\n",
      "10.0 42\n",
      "10.0 42\n",
      "11.0 43\n",
      "10.0 43\n",
      "10.0 43\n",
      "11.0 44\n",
      "10.0 44\n",
      "10.0 44\n",
      "11.0 45\n",
      "10.0 45\n",
      "10.0 45\n",
      "11.0 46\n",
      "10.0 46\n",
      "10.0 46\n",
      "11.0 47\n",
      "10.0 47\n",
      "10.0 47\n",
      "11.0 48\n",
      "10.0 48\n",
      "10.0 48\n",
      "11.0 49\n",
      "10.0 49\n",
      "10.0 49\n",
      "11.0 50\n",
      "10.0 50\n",
      "10.0 50\n",
      "11.0 51\n",
      "10.0 51\n",
      "10.0 51\n",
      "11.0 52\n",
      "10.0 52\n",
      "10.0 52\n",
      "11.0 53\n",
      "10.0 53\n",
      "10.0 53\n",
      "11.0 54\n",
      "10.0 54\n",
      "10.0 54\n",
      "11.0 55\n",
      "10.0 55\n",
      "10.0 55\n",
      "11.0 56\n",
      "10.0 56\n",
      "10.0 56\n",
      "11.0 57\n",
      "10.0 57\n",
      "10.0 57\n",
      "11.0 58\n",
      "10.0 58\n",
      "10.0 58\n",
      "11.0 59\n",
      "10.0 59\n",
      "10.0 59\n",
      "11.0 60\n",
      "10.0 60\n",
      "10.0 60\n",
      "11.0 61\n",
      "10.0 61\n",
      "10.0 61\n",
      "11.0 62\n",
      "10.0 62\n",
      "10.0 62\n",
      "11.0 63\n",
      "10.0 63\n",
      "10.0 63\n",
      "11.0 64\n",
      "10.0 64\n",
      "10.0 64\n",
      "11.0 65\n",
      "10.0 65\n",
      "10.0 65\n",
      "11.0 66\n",
      "10.0 66\n",
      "10.0 66\n",
      "11.0 67\n",
      "10.0 67\n",
      "10.0 67\n",
      "11.0 68\n",
      "10.0 68\n",
      "10.0 68\n",
      "11.0 69\n",
      "10.0 69\n",
      "10.0 69\n",
      "11.0 70\n",
      "10.0 70\n",
      "10.0 70\n",
      "11.0 71\n",
      "10.0 71\n",
      "10.0 71\n",
      "11.0 72\n",
      "10.0 72\n",
      "10.0 72\n",
      "11.0 73\n",
      "10.0 73\n",
      "10.0 73\n",
      "11.0 74\n",
      "10.0 74\n",
      "10.0 74\n",
      "11.0 75\n",
      "10.0 75\n",
      "10.0 75\n",
      "11.0 76\n",
      "10.0 76\n",
      "10.0 76\n",
      "11.0 77\n",
      "10.0 77\n",
      "10.0 77\n",
      "11.0 78\n",
      "10.0 78\n",
      "10.0 78\n",
      "11.0 79\n",
      "10.0 79\n",
      "10.0 79\n",
      "11.0 80\n",
      "10.0 80\n",
      "10.0 80\n",
      "11.0 81\n",
      "10.0 81\n",
      "10.0 81\n",
      "11.0 82\n",
      "10.0 82\n",
      "10.0 82\n",
      "11.0 83\n",
      "10.0 83\n",
      "10.0 83\n",
      "11.0 84\n",
      "10.0 84\n",
      "10.0 84\n",
      "11.0 85\n",
      "10.0 85\n",
      "10.0 85\n",
      "11.0 86\n",
      "10.0 86\n",
      "10.0 86\n",
      "11.0 87\n",
      "10.0 87\n",
      "10.0 87\n",
      "11.0 88\n",
      "10.0 88\n",
      "10.0 88\n",
      "11.0 89\n",
      "10.0 89\n",
      "10.0 89\n",
      "11.0 90\n",
      "10.0 90\n",
      "10.0 90\n",
      "11.0 91\n",
      "10.0 91\n",
      "10.0 91\n",
      "11.0 92\n",
      "10.0 92\n",
      "10.0 92\n",
      "11.0 93\n",
      "10.0 93\n",
      "10.0 93\n",
      "11.0 94\n",
      "10.0 94\n",
      "10.0 94\n",
      "11.0 95\n",
      "10.0 95\n",
      "10.0 95\n",
      "11.0 96\n",
      "10.0 96\n",
      "10.0 96\n",
      "11.0 97\n",
      "10.0 97\n",
      "10.0 97\n",
      "11.0 98\n",
      "10.0 98\n",
      "10.0 98\n",
      "11.0 99\n",
      "10.0 99\n",
      "10.0 99\n",
      "11.0 100\n",
      "10.0 100\n",
      "10.0 100\n"
     ]
    },
    {
     "data": {
      "text/plain": [
       "[11.0, 10.0, 10.0]"
      ]
     },
     "execution_count": 11,
     "metadata": {},
     "output_type": "execute_result"
    }
   ],
   "source": [
    "def coordinate_descent(f, argmin, x_0, max_iter=100):\n",
    "    x_t = x_0\n",
    "    t = 0\n",
    "    while t < max_iter:\n",
    "        t+=1\n",
    "        for i in range (3):\n",
    "            x_t[i] = argmin[i](x_t)\n",
    "            print(x_t[i],t) #print coordinates and iteration\n",
    "\n",
    "        #Print result of iteration\n",
    "        cur_f = f(x_t)\n",
    "        #print(cur_f)\n",
    "    return x_t\n",
    "\n",
    "x_0 = [1,20,5]\n",
    "argmin = [argmin_x1,argmin_x2,argmin_x3] \n",
    "coordinate_descent(f, argmin, x_0, max_iter=100)\n"
   ]
  },
  {
   "cell_type": "markdown",
   "id": "64c1c5d2",
   "metadata": {},
   "source": [
    "## Regression - Polynomial features"
   ]
  },
  {
   "cell_type": "code",
   "execution_count": 12,
   "id": "3df6fc3b",
   "metadata": {},
   "outputs": [
    {
     "name": "stdout",
     "output_type": "stream",
     "text": [
      ".. _california_housing_dataset:\n",
      "\n",
      "California Housing dataset\n",
      "--------------------------\n",
      "\n",
      "**Data Set Characteristics:**\n",
      "\n",
      ":Number of Instances: 20640\n",
      "\n",
      ":Number of Attributes: 8 numeric, predictive attributes and the target\n",
      "\n",
      ":Attribute Information:\n",
      "    - MedInc        median income in block group\n",
      "    - HouseAge      median house age in block group\n",
      "    - AveRooms      average number of rooms per household\n",
      "    - AveBedrms     average number of bedrooms per household\n",
      "    - Population    block group population\n",
      "    - AveOccup      average number of household members\n",
      "    - Latitude      block group latitude\n",
      "    - Longitude     block group longitude\n",
      "\n",
      ":Missing Attribute Values: None\n",
      "\n",
      "This dataset was obtained from the StatLib repository.\n",
      "https://www.dcc.fc.up.pt/~ltorgo/Regression/cal_housing.html\n",
      "\n",
      "The target variable is the median house value for California districts,\n",
      "expressed in hundreds of thousands of dollars ($100,000).\n",
      "\n",
      "This dataset was derived from the 1990 U.S. census, using one row per census\n",
      "block group. A block group is the smallest geographical unit for which the U.S.\n",
      "Census Bureau publishes sample data (a block group typically has a population\n",
      "of 600 to 3,000 people).\n",
      "\n",
      "A household is a group of people residing within a home. Since the average\n",
      "number of rooms and bedrooms in this dataset are provided per household, these\n",
      "columns may take surprisingly large values for block groups with few households\n",
      "and many empty houses, such as vacation resorts.\n",
      "\n",
      "It can be downloaded/loaded using the\n",
      ":func:`sklearn.datasets.fetch_california_housing` function.\n",
      "\n",
      ".. topic:: References\n",
      "\n",
      "    - Pace, R. Kelley and Ronald Barry, Sparse Spatial Autoregressions,\n",
      "      Statistics and Probability Letters, 33 (1997) 291-297\n",
      "\n"
     ]
    }
   ],
   "source": [
    "from sklearn.datasets import fetch_california_housing\n",
    "california = fetch_california_housing()\n",
    "print(california.DESCR)"
   ]
  },
  {
   "cell_type": "markdown",
   "id": "ba9fa714",
   "metadata": {},
   "source": [
    "Creating the data matrix"
   ]
  },
  {
   "cell_type": "code",
   "execution_count": 13,
   "id": "c46c883e",
   "metadata": {},
   "outputs": [
    {
     "name": "stdout",
     "output_type": "stream",
     "text": [
      "20640 8\n"
     ]
    }
   ],
   "source": [
    "D = california.data\n",
    "y = california.target\n",
    "n,d = D.shape\n",
    "print(n,d)"
   ]
  },
  {
   "cell_type": "markdown",
   "id": "02092543",
   "metadata": {},
   "source": [
    "Creating a design matrix with polynomial features"
   ]
  },
  {
   "cell_type": "code",
   "execution_count": 14,
   "id": "50b5fa71",
   "metadata": {},
   "outputs": [
    {
     "data": {
      "text/plain": [
       "array(['1', 'MedInc', 'HouseAge', 'AveRooms', 'AveBedrms', 'Population',\n",
       "       'AveOccup', 'Latitude', 'Longitude', 'MedInc^2', 'MedInc HouseAge',\n",
       "       'MedInc AveRooms', 'MedInc AveBedrms', 'MedInc Population',\n",
       "       'MedInc AveOccup', 'MedInc Latitude', 'MedInc Longitude',\n",
       "       'HouseAge^2', 'HouseAge AveRooms', 'HouseAge AveBedrms',\n",
       "       'HouseAge Population', 'HouseAge AveOccup', 'HouseAge Latitude',\n",
       "       'HouseAge Longitude', 'AveRooms^2', 'AveRooms AveBedrms',\n",
       "       'AveRooms Population', 'AveRooms AveOccup', 'AveRooms Latitude',\n",
       "       'AveRooms Longitude', 'AveBedrms^2', 'AveBedrms Population',\n",
       "       'AveBedrms AveOccup', 'AveBedrms Latitude', 'AveBedrms Longitude',\n",
       "       'Population^2', 'Population AveOccup', 'Population Latitude',\n",
       "       'Population Longitude', 'AveOccup^2', 'AveOccup Latitude',\n",
       "       'AveOccup Longitude', 'Latitude^2', 'Latitude Longitude',\n",
       "       'Longitude^2'], dtype=object)"
      ]
     },
     "execution_count": 14,
     "metadata": {},
     "output_type": "execute_result"
    }
   ],
   "source": [
    "from sklearn.preprocessing import PolynomialFeatures\n",
    "aff = PolynomialFeatures(2,include_bias=True)\n",
    "X = aff.fit_transform(D)\n",
    "aff.get_feature_names_out(california.feature_names)"
   ]
  },
  {
   "cell_type": "code",
   "execution_count": 15,
   "id": "ce394fc4",
   "metadata": {},
   "outputs": [
    {
     "name": "stdout",
     "output_type": "stream",
     "text": [
      "MedInc: 1\n",
      "MedInc AveBedrms: 12\n",
      "HouseAge AveBedrms:19\n"
     ]
    }
   ],
   "source": [
    "for i in  range(len(aff.get_feature_names_out(california.feature_names))):\n",
    "    if aff.get_feature_names_out(california.feature_names)[i] == 'MedInc':\n",
    "        print('MedInc: ' + str(i))\n",
    "    if aff.get_feature_names_out(california.feature_names)[i] == 'MedInc AveBedrms':\n",
    "        print('MedInc AveBedrms: ' + str(i))\n",
    "    if aff.get_feature_names_out(california.feature_names)[i] == 'HouseAge AveBedrms':\n",
    "        print('HouseAge AveBedrms:' + str(i))"
   ]
  },
  {
   "cell_type": "code",
   "execution_count": 16,
   "id": "e0d80278",
   "metadata": {},
   "outputs": [],
   "source": [
    "xtx = np.dot(X.T,X)"
   ]
  },
  {
   "cell_type": "code",
   "execution_count": 17,
   "id": "c9ae0c49",
   "metadata": {},
   "outputs": [],
   "source": [
    "beta = np.dot(np.dot(np.linalg.inv(xtx), X.T), y)"
   ]
  },
  {
   "cell_type": "code",
   "execution_count": 18,
   "id": "e69e8b36",
   "metadata": {},
   "outputs": [
    {
     "data": {
      "text/plain": [
       "(-11.24302574670591, -0.18614227439126382, 0.010611506550156049)"
      ]
     },
     "execution_count": 18,
     "metadata": {},
     "output_type": "execute_result"
    }
   ],
   "source": [
    "beta[1], beta[12], beta[19]"
   ]
  },
  {
   "cell_type": "code",
   "execution_count": 19,
   "id": "dacdc0f2",
   "metadata": {},
   "outputs": [],
   "source": [
    "l = 0.1\n",
    "beta1 = np.dot(np.dot(np.linalg.inv(np.dot(X.T,X) + l * np.eye(45)), X.T), y)"
   ]
  },
  {
   "cell_type": "code",
   "execution_count": 20,
   "id": "3ce22cc2",
   "metadata": {},
   "outputs": [
    {
     "data": {
      "text/plain": [
       "(-9.339969801459489, -0.1496788729236941, 0.016655234701309207)"
      ]
     },
     "execution_count": 20,
     "metadata": {},
     "output_type": "execute_result"
    }
   ],
   "source": [
    "beta1[1], beta1[12], beta1[19]"
   ]
  },
  {
   "cell_type": "markdown",
   "id": "6c1a9829",
   "metadata": {},
   "source": [
    "## Bias-var Trade Off"
   ]
  },
  {
   "cell_type": "code",
   "execution_count": 21,
   "id": "5ac07be0",
   "metadata": {},
   "outputs": [
    {
     "name": "stdout",
     "output_type": "stream",
     "text": [
      "bias^2 =  0.04\n",
      "variance =  0.007\n"
     ]
    }
   ],
   "source": [
    "#True regression function\n",
    "def f_star(x):\n",
    "    return math.tan(math.pi*x)\n",
    "\n",
    "#Regression models\n",
    "def f_d1(x):\n",
    "    return x+0.2\n",
    "\n",
    "def f_d2(x):\n",
    "    return 3*x+0.3\n",
    "\n",
    "def f_d3(x):\n",
    "    return 5*x+0.1\n",
    "\n",
    "#Calculate expected result from the sample models with x0 = 0 and use it to get the bias^2\n",
    "e_fd = (f_d1(0) + f_d2(0) + f_d3(0)) / 3 #using the hint\n",
    "bias_2 = round((f_star(0) - e_fd) ** 2,4)\n",
    "#print(\"E = \", e_fd)\n",
    "print(\"bias^2 = \", bias_2)\n",
    "\n",
    "#Using the formula from the slides (just the standard way of computing variance)\n",
    "ee_fd = ((e_fd - f_d1(0))**2 + (e_fd - f_d2(0))**2 + (e_fd - f_d3(0))**2)/3\n",
    "variance = round(ee_fd,3)\n",
    "#print(e_fd - f_d3(0))\n",
    "#print(\"EE = \", ee_fd)\n",
    "print(\"variance = \", variance)"
   ]
  },
  {
   "cell_type": "markdown",
   "id": "48e04e4b",
   "metadata": {},
   "source": [
    "## Naive Bayes\n",
    "From the 20Newsgroups dataset we fetch the documents belonging to three categories, which we use as classes."
   ]
  },
  {
   "cell_type": "code",
   "execution_count": 22,
   "id": "4e6475d9",
   "metadata": {},
   "outputs": [],
   "source": [
    "from sklearn.datasets import fetch_20newsgroups\n",
    "categories = ['rec.autos', 'rec.motorcycles', 'rec.sport.baseball', 'rec.sport.hockey']\n",
    "train = fetch_20newsgroups(subset='train', categories=categories)\n",
    "test = fetch_20newsgroups(subset='test', categories=categories)"
   ]
  },
  {
   "cell_type": "markdown",
   "id": "da785a92",
   "metadata": {},
   "source": [
    "For example, the first document in the training data is the following one:"
   ]
  },
  {
   "cell_type": "code",
   "execution_count": 23,
   "id": "a93d9448",
   "metadata": {},
   "outputs": [
    {
     "name": "stdout",
     "output_type": "stream",
     "text": [
      "From: swdwan@napier.uwaterloo.ca (Donald Wan)\n",
      "Subject: $ 80 SVX OIL CHANGE\n",
      " \n",
      "Organization: University of Waterloo\n",
      "Lines: 17\n",
      "\n",
      "\n",
      "\n",
      "\n",
      "\n",
      " My friend brought a subaru SVX recently.  I had drove it for couples times and I\n",
      "think its a great car, esp on snow.  However when she took it to a local Subaru\n",
      "dealer for a oil change, the bill came out to be about 80 dollars.  The dealer\n",
      "told us it is because to change the oil filter on a SVX it is necessary to\n",
      "disassemble a metal cover under the engine and that took an hour of labour.\n",
      "At first, we think we are being ripped off so she phone to a dealer in Toronto\n",
      "but found out the they are charging roughly the same price.  So is there any\n",
      "SVX owner out there that has the same problem ?  And if the oil change story is\n",
      "true, then the engineer of Subaru looks pretty stubid to me. By the way, the car\n",
      "looks great.\n",
      "\n",
      "SWD Wan.\n",
      "\n",
      "\n"
     ]
    }
   ],
   "source": [
    "print(train.data[0])"
   ]
  },
  {
   "cell_type": "markdown",
   "id": "d1af6f97",
   "metadata": {},
   "source": [
    "The classes are indicated categorically with indices from zero to two by the target vector. The target names tell us which index belongs to which class."
   ]
  },
  {
   "cell_type": "code",
   "execution_count": 24,
   "id": "28ceeda7",
   "metadata": {},
   "outputs": [
    {
     "data": {
      "text/plain": [
       "array([0, 3, 0, ..., 3, 1, 2], dtype=int64)"
      ]
     },
     "execution_count": 24,
     "metadata": {},
     "output_type": "execute_result"
    }
   ],
   "source": [
    "y_train = train.target\n",
    "y_train"
   ]
  },
  {
   "cell_type": "code",
   "execution_count": 25,
   "id": "6ad3956b",
   "metadata": {},
   "outputs": [
    {
     "data": {
      "text/plain": [
       "['rec.autos', 'rec.motorcycles', 'rec.sport.baseball', 'rec.sport.hockey']"
      ]
     },
     "execution_count": 25,
     "metadata": {},
     "output_type": "execute_result"
    }
   ],
   "source": [
    "train.target_names"
   ]
  },
  {
   "cell_type": "markdown",
   "id": "9ebde71a",
   "metadata": {},
   "source": [
    "We represent the documents in a bag of word format. That is, we create a data matrix ``D`` such that ``D[j,i]=1`` if the j-th document contains the i-th feature (word), and ``D[j,i]=0`` otherwise. "
   ]
  },
  {
   "cell_type": "code",
   "execution_count": 26,
   "id": "167204f0",
   "metadata": {},
   "outputs": [
    {
     "name": "stderr",
     "output_type": "stream",
     "text": [
      "<>:2: SyntaxWarning: invalid escape sequence '\\W'\n",
      "<>:2: SyntaxWarning: invalid escape sequence '\\W'\n",
      "C:\\Users\\Niki\\AppData\\Local\\Temp\\ipykernel_22728\\3555106775.py:2: SyntaxWarning: invalid escape sequence '\\W'\n",
      "  vectorizer = CountVectorizer(stop_words=\"english\", min_df=5,token_pattern=\"[^\\W\\d_]+\", binary=True)\n"
     ]
    }
   ],
   "source": [
    "from sklearn.feature_extraction.text import CountVectorizer\n",
    "vectorizer = CountVectorizer(stop_words=\"english\", min_df=5,token_pattern=\"[^\\W\\d_]+\", binary=True)\n",
    "D = vectorizer.fit_transform(train.data)\n",
    "D_test = vectorizer.transform(test.data)"
   ]
  },
  {
   "cell_type": "markdown",
   "id": "5a9fdf2b",
   "metadata": {},
   "source": [
    "We get the allocation of feature indices to words by the following array, containing the vocabulary."
   ]
  },
  {
   "cell_type": "code",
   "execution_count": 27,
   "id": "24b0e1c5",
   "metadata": {},
   "outputs": [
    {
     "data": {
      "text/plain": [
       "array(['aa', 'aaa', 'aamir', ..., 'zubov', 'zx', 'zz'], dtype=object)"
      ]
     },
     "execution_count": 27,
     "metadata": {},
     "output_type": "execute_result"
    }
   ],
   "source": [
    "vectorizer.get_feature_names_out()"
   ]
  },
  {
   "cell_type": "code",
   "execution_count": 28,
   "id": "7ee18ed0",
   "metadata": {},
   "outputs": [],
   "source": [
    "num_features = len(vectorizer.get_feature_names_out())"
   ]
  },
  {
   "cell_type": "markdown",
   "id": "f6d57b38",
   "metadata": {},
   "source": [
    "For example, the word `naive` has the index 4044."
   ]
  },
  {
   "cell_type": "code",
   "execution_count": 29,
   "id": "87ace193",
   "metadata": {},
   "outputs": [
    {
     "data": {
      "text/plain": [
       "array([4299], dtype=int64)"
      ]
     },
     "execution_count": 29,
     "metadata": {},
     "output_type": "execute_result"
    }
   ],
   "source": [
    "naive_id = np.where(vectorizer.get_feature_names_out() == 'naive')[0]\n",
    "naive_id"
   ]
  },
  {
   "cell_type": "code",
   "execution_count": 30,
   "id": "470801fa",
   "metadata": {},
   "outputs": [
    {
     "data": {
      "text/plain": [
       "(0.2486395981582252,\n",
       " 0.2503139388865634,\n",
       " 0.24989535370447885,\n",
       " 0.25115110925073253)"
      ]
     },
     "execution_count": 30,
     "metadata": {},
     "output_type": "execute_result"
    }
   ],
   "source": [
    "y0 = len([a for a in y_train if a == 0])/len(y_train)\n",
    "y1 = len([a for a in y_train if a == 1])/len(y_train)\n",
    "y2 = len([a for a in y_train if a == 2])/len(y_train)\n",
    "y3 = len([a for a in y_train if a == 3])/len(y_train)\n",
    "\n",
    "y0, y1, y2, y3"
   ]
  },
  {
   "cell_type": "code",
   "execution_count": 31,
   "id": "1fb04ae7",
   "metadata": {},
   "outputs": [
    {
     "name": "stdout",
     "output_type": "stream",
     "text": [
      "log p(x_naive = 1 | y = 0) = -6.386993\n",
      "log p(x_naive = 1 | y = 1) = -5.700561\n",
      "log p(x_naive = 1 | y = 2) = -6.392030\n",
      "log p(x_naive = 1 | y = 3) = -5.298437\n"
     ]
    }
   ],
   "source": [
    "alpha = 1e-5  # Smoothing parameter\n",
    "vocabulary = vectorizer.get_feature_names_out()\n",
    "\n",
    "V = len(vocabulary)  # Vocabulary size\n",
    "unique_classes = np.unique(y_train)\n",
    "\n",
    "log_probabilities = {}\n",
    "\n",
    "for k in unique_classes:\n",
    "    # Get indices of documents in class k\n",
    "    class_indices = np.where(y_train == k)[0]\n",
    "    \n",
    "    # Number of documents in class k\n",
    "    N_k = len(class_indices)\n",
    "    \n",
    "    # Number of documents in class k containing the word \"naive\"\n",
    "    N_naive_k = D[class_indices, naive_id].sum()\n",
    "    \n",
    "    # Compute smoothed probability\n",
    "    prob = (N_naive_k + alpha) / (N_k + alpha * V)\n",
    "    log_probabilities[k] = np.log(prob)\n",
    "\n",
    "# Print log-probabilities\n",
    "for k, log_prob in log_probabilities.items():\n",
    "    print(f\"log p(x_naive = 1 | y = {k}) = {log_prob:.6f}\")"
   ]
  },
  {
   "cell_type": "code",
   "execution_count": 32,
   "id": "d132ca31",
   "metadata": {},
   "outputs": [],
   "source": [
    "def prob_funct(word):\n",
    "    unique_classes = np.unique(y_train)\n",
    "    word_id = np.where(vectorizer.get_feature_names_out() == word)[0]\n",
    "\n",
    "    prob_list = [0,0,0,0]\n",
    "\n",
    "    for k in unique_classes:\n",
    "        # Get indices of documents in class k\n",
    "        class_indices = np.where(y_train == k)[0]\n",
    "        \n",
    "        # Number of documents in class k\n",
    "        N_k = len(class_indices)\n",
    "        \n",
    "        # Number of documents in class k containing the word \"naive\"\n",
    "        N_naive_k = D[class_indices, word_id].sum()\n",
    "        \n",
    "        # Compute smoothed probability\n",
    "        prob = (N_naive_k) / (N_k)\n",
    "        prob_list[k] = prob\n",
    "    \n",
    "    return prob_list"
   ]
  },
  {
   "cell_type": "code",
   "execution_count": 33,
   "id": "78317d6f",
   "metadata": {},
   "outputs": [
    {
     "data": {
      "text/plain": [
       "[0.09764309764309764,\n",
       " 0.0033444816053511705,\n",
       " 0.0016750418760469012,\n",
       " 0.0016666666666666668]"
      ]
     },
     "execution_count": 33,
     "metadata": {},
     "output_type": "execute_result"
    }
   ],
   "source": [
    "prob_funct('auto')"
   ]
  },
  {
   "cell_type": "code",
   "execution_count": 34,
   "id": "663c407f",
   "metadata": {},
   "outputs": [
    {
     "name": "stdout",
     "output_type": "stream",
     "text": [
      "p(y = 0 | x_autos = 1) = 1.000000\n",
      "p(y = 1 | x_autos = 1) = 0.000000\n",
      "p(y = 2 | x_autos = 1) = 0.000000\n",
      "p(y = 3 | x_autos = 1) = 0.000000\n",
      "p(y = 0 | x_motorcycles = 1) = 0.100000\n",
      "p(y = 1 | x_motorcycles = 1) = 0.900000\n",
      "p(y = 2 | x_motorcycles = 1) = 0.000000\n",
      "p(y = 3 | x_motorcycles = 1) = 0.000000\n",
      "p(y = 0 | x_baseball = 1) = 0.000000\n",
      "p(y = 1 | x_baseball = 1) = 0.004049\n",
      "p(y = 2 | x_baseball = 1) = 0.842105\n",
      "p(y = 3 | x_baseball = 1) = 0.153846\n",
      "p(y = 0 | x_hockey = 1) = 0.000000\n",
      "p(y = 1 | x_hockey = 1) = 0.000000\n",
      "p(y = 2 | x_hockey = 1) = 0.016393\n",
      "p(y = 3 | x_hockey = 1) = 0.983607\n"
     ]
    }
   ],
   "source": [
    "# Assuming the following values are known or calculated: 5C\n",
    "# 1. Priors (p(y=k))\n",
    "class_priors = [y0, y1, y2, y3]\n",
    "\n",
    "# 2. Likelihoods (p(x_word=1 | y=k)) from 5b\n",
    "likelihoods = {\n",
    "    'autos': prob_funct('autos'),\n",
    "    'motorcycles': prob_funct('motorcycles'),\n",
    "    'baseball': prob_funct('baseball'),\n",
    "    'hockey': prob_funct('hockey'),\n",
    "}\n",
    "\n",
    "# Function to compute posterior probabilities using Bayes' theorem\n",
    "def compute_posterior(word, class_priors, likelihoods):\n",
    "    # Extract likelihoods for the given word\n",
    "    word_likelihoods = likelihoods[word]\n",
    "    \n",
    "    # Compute the denominator p(x_word=1)\n",
    "    p_x_word = sum(word_likelihoods[k] * class_priors[k] for k in range(len(class_priors)))\n",
    "    \n",
    "    # Compute posterior probabilities for each class\n",
    "    posteriors = [(word_likelihoods[k] * class_priors[k]) / p_x_word for k in range(len(class_priors))]\n",
    "    return posteriors\n",
    "\n",
    "# Example: Compute for each word\n",
    "words = ['autos', 'motorcycles', 'baseball', 'hockey']\n",
    "for word in words:\n",
    "    posteriors = compute_posterior(word, class_priors, likelihoods)\n",
    "    for k, posterior in enumerate(posteriors):\n",
    "        print(f\"p(y = {k} | x_{word} = 1) = {posterior:.6f}\")\n"
   ]
  },
  {
   "cell_type": "markdown",
   "id": "9daf68a3",
   "metadata": {},
   "source": [
    "## Decision Tree"
   ]
  },
  {
   "cell_type": "code",
   "execution_count": 35,
   "id": "f6962d9d",
   "metadata": {},
   "outputs": [],
   "source": [
    "from sklearn.datasets import load_iris\n",
    "iris = load_iris()\n",
    "D, y = iris.data, iris.target"
   ]
  },
  {
   "cell_type": "code",
   "execution_count": 36,
   "id": "07aca608",
   "metadata": {},
   "outputs": [
    {
     "name": "stdout",
     "output_type": "stream",
     "text": [
      ".. _iris_dataset:\n",
      "\n",
      "Iris plants dataset\n",
      "--------------------\n",
      "\n",
      "**Data Set Characteristics:**\n",
      "\n",
      ":Number of Instances: 150 (50 in each of three classes)\n",
      ":Number of Attributes: 4 numeric, predictive attributes and the class\n",
      ":Attribute Information:\n",
      "    - sepal length in cm\n",
      "    - sepal width in cm\n",
      "    - petal length in cm\n",
      "    - petal width in cm\n",
      "    - class:\n",
      "            - Iris-Setosa\n",
      "            - Iris-Versicolour\n",
      "            - Iris-Virginica\n",
      "\n",
      ":Summary Statistics:\n",
      "\n",
      "============== ==== ==== ======= ===== ====================\n",
      "                Min  Max   Mean    SD   Class Correlation\n",
      "============== ==== ==== ======= ===== ====================\n",
      "sepal length:   4.3  7.9   5.84   0.83    0.7826\n",
      "sepal width:    2.0  4.4   3.05   0.43   -0.4194\n",
      "petal length:   1.0  6.9   3.76   1.76    0.9490  (high!)\n",
      "petal width:    0.1  2.5   1.20   0.76    0.9565  (high!)\n",
      "============== ==== ==== ======= ===== ====================\n",
      "\n",
      ":Missing Attribute Values: None\n",
      ":Class Distribution: 33.3% for each of 3 classes.\n",
      ":Creator: R.A. Fisher\n",
      ":Donor: Michael Marshall (MARSHALL%PLU@io.arc.nasa.gov)\n",
      ":Date: July, 1988\n",
      "\n",
      "The famous Iris database, first used by Sir R.A. Fisher. The dataset is taken\n",
      "from Fisher's paper. Note that it's the same as in R, but not as in the UCI\n",
      "Machine Learning Repository, which has two wrong data points.\n",
      "\n",
      "This is perhaps the best known database to be found in the\n",
      "pattern recognition literature.  Fisher's paper is a classic in the field and\n",
      "is referenced frequently to this day.  (See Duda & Hart, for example.)  The\n",
      "data set contains 3 classes of 50 instances each, where each class refers to a\n",
      "type of iris plant.  One class is linearly separable from the other 2; the\n",
      "latter are NOT linearly separable from each other.\n",
      "\n",
      "|details-start|\n",
      "**References**\n",
      "|details-split|\n",
      "\n",
      "- Fisher, R.A. \"The use of multiple measurements in taxonomic problems\"\n",
      "  Annual Eugenics, 7, Part II, 179-188 (1936); also in \"Contributions to\n",
      "  Mathematical Statistics\" (John Wiley, NY, 1950).\n",
      "- Duda, R.O., & Hart, P.E. (1973) Pattern Classification and Scene Analysis.\n",
      "  (Q327.D83) John Wiley & Sons.  ISBN 0-471-22361-1.  See page 218.\n",
      "- Dasarathy, B.V. (1980) \"Nosing Around the Neighborhood: A New System\n",
      "  Structure and Classification Rule for Recognition in Partially Exposed\n",
      "  Environments\".  IEEE Transactions on Pattern Analysis and Machine\n",
      "  Intelligence, Vol. PAMI-2, No. 1, 67-71.\n",
      "- Gates, G.W. (1972) \"The Reduced Nearest Neighbor Rule\".  IEEE Transactions\n",
      "  on Information Theory, May 1972, 431-433.\n",
      "- See also: 1988 MLC Proceedings, 54-64.  Cheeseman et al\"s AUTOCLASS II\n",
      "  conceptual clustering system finds 3 classes in the data.\n",
      "- Many, many more ...\n",
      "\n",
      "|details-end|\n",
      "\n"
     ]
    }
   ],
   "source": [
    "print(iris.DESCR)"
   ]
  },
  {
   "cell_type": "code",
   "execution_count": 37,
   "id": "b2a56f88",
   "metadata": {},
   "outputs": [],
   "source": [
    "def gini_imp(y):\n",
    "    temp = 0\n",
    "    for i in range(3):\n",
    "        temp += (len([a for a in y if a == i])/len(y))**2\n",
    "    g_impurity = 1 - temp\n",
    "    return g_impurity"
   ]
  },
  {
   "cell_type": "code",
   "execution_count": 38,
   "id": "7f615356",
   "metadata": {},
   "outputs": [
    {
     "data": {
      "text/plain": [
       "0.6666666666666667"
      ]
     },
     "execution_count": 38,
     "metadata": {},
     "output_type": "execute_result"
    }
   ],
   "source": [
    "gini_imp(y)"
   ]
  },
  {
   "cell_type": "code",
   "execution_count": 39,
   "id": "0264a38a",
   "metadata": {},
   "outputs": [
    {
     "data": {
      "text/plain": [
       "array([5.1, 3.5, 1.4, 0.2])"
      ]
     },
     "execution_count": 39,
     "metadata": {},
     "output_type": "execute_result"
    }
   ],
   "source": [
    "D[0]"
   ]
  },
  {
   "cell_type": "code",
   "execution_count": 40,
   "id": "f7f001a1",
   "metadata": {},
   "outputs": [
    {
     "name": "stdout",
     "output_type": "stream",
     "text": [
      "-0.17476190476190478\n"
     ]
    }
   ],
   "source": [
    "small_sep_id = []\n",
    "big_sep_id = []\n",
    "for i in range(150):\n",
    "    if(D[i][0] <= 5.84):\n",
    "        small_sep_id.append(i)\n",
    "    else:\n",
    "        big_sep_id.append(i)\n",
    "#print(small_sep_id)\n",
    "#print(big_sep_id)\n",
    "y_small = [y[j] for j in small_sep_id]\n",
    "y_big = [y[j] for j in big_sep_id]\n",
    "#print(gini_imp(y_small))\n",
    "#print(gini_imp(y_big))\n",
    "cost = (len(small_sep_id)/150 * gini_imp(y_small) + len(big_sep_id)/150 * gini_imp(y_big)) - gini_imp(y)\n",
    "print(cost)"
   ]
  },
  {
   "cell_type": "markdown",
   "id": "13e24eba",
   "metadata": {},
   "source": [
    "## SVM"
   ]
  },
  {
   "cell_type": "code",
   "execution_count": 41,
   "id": "c132e3a4",
   "metadata": {},
   "outputs": [],
   "source": [
    "# Standard scientific Python imports\n",
    "import matplotlib.pyplot as plt\n",
    "\n",
    "from sklearn import datasets\n",
    "from sklearn.model_selection import train_test_split\n",
    "from sklearn.model_selection import GridSearchCV"
   ]
  },
  {
   "cell_type": "code",
   "execution_count": 42,
   "id": "b7946aaa",
   "metadata": {},
   "outputs": [
    {
     "data": {
      "image/png": "[encoded data removed]",
      "text/plain": [
       "<Figure size 1000x300 with 4 Axes>"
      ]
     },
     "metadata": {},
     "output_type": "display_data"
    }
   ],
   "source": [
    "digits = datasets.load_digits()\n",
    "\n",
    "_, axes = plt.subplots(nrows=1, ncols=4, figsize=(10, 3))\n",
    "for ax, image, label in zip(axes, digits.images, digits.target):\n",
    "    ax.set_axis_off()\n",
    "    ax.imshow(image, cmap=plt.cm.gray_r, interpolation=\"nearest\")\n",
    "    ax.set_title(\"Label %i\" % label)"
   ]
  },
  {
   "cell_type": "code",
   "execution_count": 43,
   "id": "08ceaddc",
   "metadata": {},
   "outputs": [],
   "source": [
    "# flatten the images\n",
    "n = len(digits.images)\n",
    "D = digits.images.reshape((n, -1))\n",
    "y = digits.target\n",
    "\n",
    "# Split data into 70% train and 30% test subsets\n",
    "D_train, D_test, y_train, y_test = train_test_split(\n",
    "    D, y, test_size=0.3, shuffle=False\n",
    ")"
   ]
  },
  {
   "cell_type": "code",
   "execution_count": 44,
   "id": "ed77a736",
   "metadata": {},
   "outputs": [
    {
     "name": "stdout",
     "output_type": "stream",
     "text": [
      "0.9629629629629629\n"
     ]
    }
   ],
   "source": [
    "from sklearn.svm import SVC\n",
    "svc = SVC(kernel='rbf', gamma=0.0008, C=0.9)\n",
    "model = svc.fit(D_train, y_train)\n",
    "print(svc.score(D_test, y_test))"
   ]
  },
  {
   "cell_type": "code",
   "execution_count": 45,
   "id": "2177cc39",
   "metadata": {},
   "outputs": [
    {
     "data": {
      "text/plain": [
       "112"
      ]
     },
     "execution_count": 45,
     "metadata": {},
     "output_type": "execute_result"
    }
   ],
   "source": [
    "# Calculate how many supporting vectors classes 0 and 1 have in total\n",
    "support_vectors = svc.n_support_\n",
    "all_support_vectors_0_1 = support_vectors[0] + support_vectors[1]\n",
    "all_support_vectors_0_1"
   ]
  },
  {
   "cell_type": "code",
   "execution_count": 46,
   "id": "a2cfeea9",
   "metadata": {},
   "outputs": [
    {
     "data": {
      "text/plain": [
       "41"
      ]
     },
     "execution_count": 46,
     "metadata": {},
     "output_type": "execute_result"
    }
   ],
   "source": [
    "# Compute how many supporting vectors are distinguished between classes 0 and 1\n",
    "all_coeficients_0_1 = model.dual_coef_[0, :all_support_vectors_0_1]\n",
    "distinguished_coeficients_0_1 = all_coeficients_0_1[np.where(all_coeficients_0_1 != 0)]\n",
    "distinguished_coeficients_0_1.size"
   ]
  },
  {
   "cell_type": "code",
   "execution_count": 47,
   "id": "d9c715b6",
   "metadata": {},
   "outputs": [
    {
     "data": {
      "image/png": "[encoded data removed]",
      "text/plain": [
       "<Figure size 1000x500 with 8 Axes>"
      ]
     },
     "metadata": {},
     "output_type": "display_data"
    }
   ],
   "source": [
    "# Extract support vectors and dual coefficients from training\n",
    "support_vectors = svc.support_vectors_\n",
    "dual_coef = svc.dual_coef_\n",
    "\n",
    "# Separate the support vectors for class 0 and class 1\n",
    "# Dual coefficients have two rows for binary classification\n",
    "class_0_indices = (dual_coef[0] > 0).nonzero()[0]\n",
    "class_1_indices = (dual_coef[0] < 0).nonzero()[0]\n",
    "\n",
    "# Get the top 4 most influential support vectors for each class\n",
    "top_4_class_0 = support_vectors[class_0_indices[:4]]\n",
    "top_4_class_1 = support_vectors[class_1_indices[:4]]    \n",
    "\n",
    "\n",
    "# Plot the support vectors\n",
    "fig, axes = plt.subplots(2, 4, figsize=(10, 5))\n",
    "for i, sv in enumerate(top_4_class_0):\n",
    "    axes[0, i].imshow(sv.reshape(8, 8), cmap='gray')\n",
    "    axes[0, i].set_title(f\"Class 0, SV {i+1}\")\n",
    "    axes[0, i].axis('off')\n",
    "\n",
    "for i, sv in enumerate(top_4_class_1):\n",
    "    axes[1, i].imshow(sv.reshape(8, 8), cmap='gray')\n",
    "    axes[1, i].set_title(f\"Class 1, SV {i+1}\")\n",
    "    axes[1, i].axis('off')\n",
    "\n",
    "plt.suptitle(\"Top 4 Support Vectors for Classes 0 and 1\")\n",
    "plt.show()\n"
   ]
  },
  {
   "cell_type": "code",
   "execution_count": 48,
   "id": "e6db4b71",
   "metadata": {},
   "outputs": [
    {
     "name": "stdout",
     "output_type": "stream",
     "text": [
      "Best Parameters: {'C': 6, 'gamma': 0.0006, 'kernel': 'rbf'}\n",
      "Best Accuracy: 0.9744073042401734\n"
     ]
    }
   ],
   "source": [
    "# Create an SVC with RBF kernel\n",
    "svc = SVC()\n",
    "\n",
    "# Define the parameter grid\n",
    "param_grid = {\n",
    "    'kernel':['rbf'],\n",
    "    'gamma': [0.0001, 0.0006, 0.001, 0.006],\n",
    "    'C': [0.6, 0.8, 1, 2, 3, 4, 6]\n",
    "}\n",
    "\n",
    "# Create the GridSearchCV object with 5-fold cross-validation\n",
    "grid_search = GridSearchCV(estimator=svc, param_grid=param_grid, scoring='accuracy', cv=5)\n",
    "\n",
    "# Train the model on the whole dataset D\n",
    "grid_search.fit(D, y)\n",
    "\n",
    "# Get the best parameters and the best accuracy\n",
    "best_params = grid_search.best_params_\n",
    "best_accuracy = grid_search.best_score_\n",
    "\n",
    "print(\"Best Parameters:\", best_params)\n",
    "print(\"Best Accuracy:\", best_accuracy)"
   ]
  }
 ],
 "metadata": {
  "kernelspec": {
   "display_name": "Python 3",
   "language": "python",
   "name": "python3"
  },
  "language_info": {
   "codemirror_mode": {
    "name": "ipython",
    "version": 3
   },
   "file_extension": ".py",
   "mimetype": "text/x-python",
   "name": "python",
   "nbconvert_exporter": "python",
   "pygments_lexer": "ipython3",
   "version": "3.12.2"
  }
 },
 "nbformat": 4,
 "nbformat_minor": 5
}
