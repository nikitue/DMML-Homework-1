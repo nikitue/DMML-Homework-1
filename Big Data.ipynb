{
 "cells": [
  {
   "cell_type": "markdown",
   "metadata": {},
   "source": [
    "Import libraries"
   ]
  },
  {
   "cell_type": "code",
   "execution_count": null,
   "metadata": {},
   "outputs": [],
   "source": [
    "import numpy\n",
    "import pandas\n",
    "import math"
   ]
  },
  {
   "cell_type": "markdown",
   "metadata": {},
   "source": [
    "Exercise 1\n",
    " - Functions from description"
   ]
  },
  {
   "cell_type": "code",
   "execution_count": null,
   "metadata": {},
   "outputs": [],
   "source": [
    "def sigma(x):\n",
    "    return math.exp(x)/(math.exp(x) - 1) \n",
    "\n",
    "def f(u,v,b):\n",
    "    return -math.log(sigma(u+b)) - math.log(sigma(v+b)) - math.log(sigma(-u/2 - v/2 - b)) + (u**2 + v**2 + b**2)/100\n",
    " "
   ]
  },
  {
   "cell_type": "markdown",
   "metadata": {},
   "source": [
    "- Gradient of f is a vector (list in python) consisting of three partial derivatives. Each partial derivative is on one of coordinate of the point (u,v,b)."
   ]
  },
  {
   "cell_type": "code",
   "execution_count": null,
   "metadata": {},
   "outputs": [],
   "source": [
    "#Partial derivative differentiating on u     \n",
    "def dfu(u,v,b):\n",
    "    return ((u-25)*math.exp(1/2*(u+v+2*b)) + (u+25)*math.exp(1/2*(3*u+v+4*b))+ u * math.exp(u+b) + u - 50) / (50 * (math.exp(u+b)+1) * (math.exp(1/2*(u+v+2*b)) + 1))   \n",
    "\n",
    "#Partial derivative differentiating on v \n",
    "def dfv(u,v,b):\n",
    "    return ((v-25)*math.exp(1/2*(u+v+2*b)) + (v+25)*math.exp(1/2*(3*v+u+4*b))+ v * math.exp(v+b) + v - 50) / (50 * (math.exp(v+b)+1) * (math.exp(1/2*(u+v+2*b)) + 1))\n",
    "\n",
    "#Partial derivative differentiating on b \n",
    "def dfb(u,v,b):\n",
    "    return ((b-50) * math.exp(1/2*(u+v+2*b)) + b * math.exp(u+v+2*b) + b * math.exp(1/2*(3*u+v+4*b)) + b * math.exp(1/2*(u+3*v+4*b)) + (b + 50) * math.exp(3/2*(u+v+2*b)) + (b-50)*math.exp(u+b) + + (b-50)*math.exp(v+b) + b -100) / (50 * (math.exp(u+b) + 1) * (math.exp(v+b) + 1) * (math.exp(1/2*(u+v+2*b)) + 1))\n",
    "\n",
    "#Resulting gradient\n",
    "gradientf = [dfu, dfv, dfb]"
   ]
  }
 ],
 "metadata": {
  "language_info": {
   "name": "python"
  }
 },
 "nbformat": 4,
 "nbformat_minor": 2
}
