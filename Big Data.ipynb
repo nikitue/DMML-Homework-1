{
 "cells": [
  {
   "cell_type": "code",
   "execution_count": null,
   "metadata": {},
   "outputs": [],
   "source": [
    "import numpy\n",
    "import pandas\n",
    "import math"
   ]
  },
  {
   "cell_type": "code",
   "execution_count": null,
   "metadata": {},
   "outputs": [],
   "source": [
    "def sigma(x):\n",
    "    return math.exp(x)/(math.exp(x) - 1) \n",
    "\n",
    "def f(u,v,b):\n",
    "    return -math.log(sigma(u+b)) - math.log(sigma(v+b)) - math.log(sigma(-u/2 - v/2 - b)) + (u**2 + v**2 + b**2)/100\n",
    " "
   ]
  },
  {
   "cell_type": "code",
   "execution_count": null,
   "metadata": {},
   "outputs": [],
   "source": [
    "    \n",
    "def dfu(u,v,b):\n",
    "    return ((u-25)*math.exp(1/2*(u+v+2*b)) + (u+25)*math.exp(1/2*(3*u+v+4*b))+ u * math.exp(u+b) + u - 50) / (50 * (math.exp(u+b)+1) * (math.exp(1/2*(u+v+2*b)) + 1))   \n",
    "\n",
    "def dfv(u,v,b):\n",
    "    return 0\n",
    "\n",
    "def dfb(u,v,b):\n",
    "    return 0\n",
    "\n",
    "gradientf = [dfu, dfv, dfb]"
   ]
  }
 ],
 "metadata": {
  "language_info": {
   "name": "python"
  }
 },
 "nbformat": 4,
 "nbformat_minor": 2
}
