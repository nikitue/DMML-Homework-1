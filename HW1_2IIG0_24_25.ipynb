{
 "cells": [
  {
   "cell_type": "code",
   "execution_count": 2,
   "id": "216d9e83",
   "metadata": {},
   "outputs": [],
   "source": [
    "import numpy as np"
   ]
  },
  {
   "cell_type": "markdown",
   "id": "a7eadd07",
   "metadata": {},
   "source": [
    "If possible, update your sklearn version to 1.3.2 to reduce variance in the versions."
   ]
  },
  {
   "cell_type": "code",
   "execution_count": 3,
   "id": "7826208c",
   "metadata": {},
   "outputs": [],
   "source": [
    "#!pip3 install scikit-learn==1.3.2"
   ]
  },
  {
   "cell_type": "code",
   "execution_count": 4,
   "id": "dd0a3fe3",
   "metadata": {},
   "outputs": [
    {
     "name": "stdout",
     "output_type": "stream",
     "text": [
      "The scikit-learn version is 1.4.1.post1.\n"
     ]
    }
   ],
   "source": [
    "import sklearn\n",
    "print('The scikit-learn version is {}.'.format(sklearn.__version__))"
   ]
  },
  {
   "cell_type": "markdown",
   "id": "64c1c5d2",
   "metadata": {},
   "source": [
    "## Regression - Polynomial features"
   ]
  },
  {
   "cell_type": "code",
   "execution_count": 5,
   "id": "3df6fc3b",
   "metadata": {},
   "outputs": [
    {
     "name": "stdout",
     "output_type": "stream",
     "text": [
      ".. _california_housing_dataset:\n",
      "\n",
      "California Housing dataset\n",
      "--------------------------\n",
      "\n",
      "**Data Set Characteristics:**\n",
      "\n",
      ":Number of Instances: 20640\n",
      "\n",
      ":Number of Attributes: 8 numeric, predictive attributes and the target\n",
      "\n",
      ":Attribute Information:\n",
      "    - MedInc        median income in block group\n",
      "    - HouseAge      median house age in block group\n",
      "    - AveRooms      average number of rooms per household\n",
      "    - AveBedrms     average number of bedrooms per household\n",
      "    - Population    block group population\n",
      "    - AveOccup      average number of household members\n",
      "    - Latitude      block group latitude\n",
      "    - Longitude     block group longitude\n",
      "\n",
      ":Missing Attribute Values: None\n",
      "\n",
      "This dataset was obtained from the StatLib repository.\n",
      "https://www.dcc.fc.up.pt/~ltorgo/Regression/cal_housing.html\n",
      "\n",
      "The target variable is the median house value for California districts,\n",
      "expressed in hundreds of thousands of dollars ($100,000).\n",
      "\n",
      "This dataset was derived from the 1990 U.S. census, using one row per census\n",
      "block group. A block group is the smallest geographical unit for which the U.S.\n",
      "Census Bureau publishes sample data (a block group typically has a population\n",
      "of 600 to 3,000 people).\n",
      "\n",
      "A household is a group of people residing within a home. Since the average\n",
      "number of rooms and bedrooms in this dataset are provided per household, these\n",
      "columns may take surprisingly large values for block groups with few households\n",
      "and many empty houses, such as vacation resorts.\n",
      "\n",
      "It can be downloaded/loaded using the\n",
      ":func:`sklearn.datasets.fetch_california_housing` function.\n",
      "\n",
      ".. topic:: References\n",
      "\n",
      "    - Pace, R. Kelley and Ronald Barry, Sparse Spatial Autoregressions,\n",
      "      Statistics and Probability Letters, 33 (1997) 291-297\n",
      "\n"
     ]
    }
   ],
   "source": [
    "from sklearn.datasets import fetch_california_housing\n",
    "california = fetch_california_housing()\n",
    "print(california.DESCR)"
   ]
  },
  {
   "cell_type": "markdown",
   "id": "ba9fa714",
   "metadata": {},
   "source": [
    "Creating the data matrix"
   ]
  },
  {
   "cell_type": "code",
   "execution_count": 6,
   "id": "c46c883e",
   "metadata": {},
   "outputs": [
    {
     "name": "stdout",
     "output_type": "stream",
     "text": [
      "20640 8\n"
     ]
    }
   ],
   "source": [
    "D = california.data\n",
    "y = california.target\n",
    "n,d = D.shape\n",
    "print(n,d)"
   ]
  },
  {
   "cell_type": "markdown",
   "id": "02092543",
   "metadata": {},
   "source": [
    "Creating a design matrix with polynomial features"
   ]
  },
  {
   "cell_type": "code",
   "execution_count": 7,
   "id": "50b5fa71",
   "metadata": {},
   "outputs": [
    {
     "data": {
      "text/plain": [
       "array(['1', 'MedInc', 'HouseAge', 'AveRooms', 'AveBedrms', 'Population',\n",
       "       'AveOccup', 'Latitude', 'Longitude', 'MedInc^2', 'MedInc HouseAge',\n",
       "       'MedInc AveRooms', 'MedInc AveBedrms', 'MedInc Population',\n",
       "       'MedInc AveOccup', 'MedInc Latitude', 'MedInc Longitude',\n",
       "       'HouseAge^2', 'HouseAge AveRooms', 'HouseAge AveBedrms',\n",
       "       'HouseAge Population', 'HouseAge AveOccup', 'HouseAge Latitude',\n",
       "       'HouseAge Longitude', 'AveRooms^2', 'AveRooms AveBedrms',\n",
       "       'AveRooms Population', 'AveRooms AveOccup', 'AveRooms Latitude',\n",
       "       'AveRooms Longitude', 'AveBedrms^2', 'AveBedrms Population',\n",
       "       'AveBedrms AveOccup', 'AveBedrms Latitude', 'AveBedrms Longitude',\n",
       "       'Population^2', 'Population AveOccup', 'Population Latitude',\n",
       "       'Population Longitude', 'AveOccup^2', 'AveOccup Latitude',\n",
       "       'AveOccup Longitude', 'Latitude^2', 'Latitude Longitude',\n",
       "       'Longitude^2'], dtype=object)"
      ]
     },
     "execution_count": 7,
     "metadata": {},
     "output_type": "execute_result"
    }
   ],
   "source": [
    "from sklearn.preprocessing import PolynomialFeatures\n",
    "aff = PolynomialFeatures(2,include_bias=True)\n",
    "X = aff.fit_transform(D)\n",
    "aff.get_feature_names_out(california.feature_names)"
   ]
  },
  {
   "cell_type": "code",
   "execution_count": 8,
   "id": "ce394fc4",
   "metadata": {},
   "outputs": [
    {
     "name": "stdout",
     "output_type": "stream",
     "text": [
      "MedInc: 1\n",
      "MedInc AveBedrms: 12\n",
      "HouseAge AveBedrms:19\n"
     ]
    }
   ],
   "source": [
    "for i in  range(len(aff.get_feature_names_out(california.feature_names))):\n",
    "    if aff.get_feature_names_out(california.feature_names)[i] == 'MedInc':\n",
    "        print('MedInc: ' + str(i))\n",
    "    if aff.get_feature_names_out(california.feature_names)[i] == 'MedInc AveBedrms':\n",
    "        print('MedInc AveBedrms: ' + str(i))\n",
    "    if aff.get_feature_names_out(california.feature_names)[i] == 'HouseAge AveBedrms':\n",
    "        print('HouseAge AveBedrms:' + str(i))"
   ]
  },
  {
   "cell_type": "code",
   "execution_count": 9,
   "id": "e0d80278",
   "metadata": {},
   "outputs": [],
   "source": [
    "xtx = np.dot(X.T,X)"
   ]
  },
  {
   "cell_type": "code",
   "execution_count": 10,
   "id": "c9ae0c49",
   "metadata": {},
   "outputs": [],
   "source": [
    "beta = np.dot(np.dot(np.linalg.inv(xtx), X.T), y)"
   ]
  },
  {
   "cell_type": "code",
   "execution_count": 11,
   "id": "e69e8b36",
   "metadata": {},
   "outputs": [
    {
     "data": {
      "text/plain": [
       "(-11.24302574670591, -0.18614227439126382, 0.010611506550156049)"
      ]
     },
     "execution_count": 11,
     "metadata": {},
     "output_type": "execute_result"
    }
   ],
   "source": [
    "beta[1], beta[12], beta[19]"
   ]
  },
  {
   "cell_type": "code",
   "execution_count": 12,
   "id": "dacdc0f2",
   "metadata": {},
   "outputs": [],
   "source": [
    "l = 0.1\n",
    "beta1 = np.dot(np.dot(np.linalg.inv(np.dot(X.T,X) + l * np.eye(45)), X.T), y)"
   ]
  },
  {
   "cell_type": "code",
   "execution_count": 13,
   "id": "3ce22cc2",
   "metadata": {},
   "outputs": [
    {
     "data": {
      "text/plain": [
       "(-9.339969801459489, -0.1496788729236941, 0.016655234701309207)"
      ]
     },
     "execution_count": 13,
     "metadata": {},
     "output_type": "execute_result"
    }
   ],
   "source": [
    "beta1[1], beta1[12], beta1[19]"
   ]
  },
  {
   "cell_type": "markdown",
   "id": "48e04e4b",
   "metadata": {},
   "source": [
    "## Naive Bayes\n",
    "From the 20Newsgroups dataset we fetch the documents belonging to three categories, which we use as classes."
   ]
  },
  {
   "cell_type": "code",
   "execution_count": 14,
   "id": "4e6475d9",
   "metadata": {},
   "outputs": [],
   "source": [
    "from sklearn.datasets import fetch_20newsgroups\n",
    "categories = ['rec.autos', 'rec.motorcycles', 'rec.sport.baseball', 'rec.sport.hockey']\n",
    "train = fetch_20newsgroups(subset='train', categories=categories)\n",
    "test = fetch_20newsgroups(subset='test', categories=categories)"
   ]
  },
  {
   "cell_type": "markdown",
   "id": "da785a92",
   "metadata": {},
   "source": [
    "For example, the first document in the training data is the following one:"
   ]
  },
  {
   "cell_type": "code",
   "execution_count": 15,
   "id": "a93d9448",
   "metadata": {},
   "outputs": [
    {
     "name": "stdout",
     "output_type": "stream",
     "text": [
      "From: swdwan@napier.uwaterloo.ca (Donald Wan)\n",
      "Subject: $ 80 SVX OIL CHANGE\n",
      " \n",
      "Organization: University of Waterloo\n",
      "Lines: 17\n",
      "\n",
      "\n",
      "\n",
      "\n",
      "\n",
      " My friend brought a subaru SVX recently.  I had drove it for couples times and I\n",
      "think its a great car, esp on snow.  However when she took it to a local Subaru\n",
      "dealer for a oil change, the bill came out to be about 80 dollars.  The dealer\n",
      "told us it is because to change the oil filter on a SVX it is necessary to\n",
      "disassemble a metal cover under the engine and that took an hour of labour.\n",
      "At first, we think we are being ripped off so she phone to a dealer in Toronto\n",
      "but found out the they are charging roughly the same price.  So is there any\n",
      "SVX owner out there that has the same problem ?  And if the oil change story is\n",
      "true, then the engineer of Subaru looks pretty stubid to me. By the way, the car\n",
      "looks great.\n",
      "\n",
      "SWD Wan.\n",
      "\n",
      "\n"
     ]
    }
   ],
   "source": [
    "print(train.data[0])"
   ]
  },
  {
   "cell_type": "markdown",
   "id": "d1af6f97",
   "metadata": {},
   "source": [
    "The classes are indicated categorically with indices from zero to two by the target vector. The target names tell us which index belongs to which class."
   ]
  },
  {
   "cell_type": "code",
   "execution_count": 16,
   "id": "28ceeda7",
   "metadata": {},
   "outputs": [
    {
     "data": {
      "text/plain": [
       "array([0, 3, 0, ..., 3, 1, 2], dtype=int64)"
      ]
     },
     "execution_count": 16,
     "metadata": {},
     "output_type": "execute_result"
    }
   ],
   "source": [
    "y_train = train.target\n",
    "y_train"
   ]
  },
  {
   "cell_type": "code",
   "execution_count": 17,
   "id": "6ad3956b",
   "metadata": {},
   "outputs": [
    {
     "data": {
      "text/plain": [
       "['rec.autos', 'rec.motorcycles', 'rec.sport.baseball', 'rec.sport.hockey']"
      ]
     },
     "execution_count": 17,
     "metadata": {},
     "output_type": "execute_result"
    }
   ],
   "source": [
    "train.target_names"
   ]
  },
  {
   "cell_type": "markdown",
   "id": "9ebde71a",
   "metadata": {},
   "source": [
    "We represent the documents in a bag of word format. That is, we create a data matrix ``D`` such that ``D[j,i]=1`` if the j-th document contains the i-th feature (word), and ``D[j,i]=0`` otherwise. "
   ]
  },
  {
   "cell_type": "code",
   "execution_count": 18,
   "id": "167204f0",
   "metadata": {},
   "outputs": [
    {
     "name": "stderr",
     "output_type": "stream",
     "text": [
      "<>:2: SyntaxWarning: invalid escape sequence '\\W'\n",
      "<>:2: SyntaxWarning: invalid escape sequence '\\W'\n",
      "C:\\Users\\Niki\\AppData\\Local\\Temp\\ipykernel_16092\\3555106775.py:2: SyntaxWarning: invalid escape sequence '\\W'\n",
      "  vectorizer = CountVectorizer(stop_words=\"english\", min_df=5,token_pattern=\"[^\\W\\d_]+\", binary=True)\n"
     ]
    }
   ],
   "source": [
    "from sklearn.feature_extraction.text import CountVectorizer\n",
    "vectorizer = CountVectorizer(stop_words=\"english\", min_df=5,token_pattern=\"[^\\W\\d_]+\", binary=True)\n",
    "D = vectorizer.fit_transform(train.data)\n",
    "D_test = vectorizer.transform(test.data)"
   ]
  },
  {
   "cell_type": "markdown",
   "id": "5a9fdf2b",
   "metadata": {},
   "source": [
    "We get the allocation of feature indices to words by the following array, containing the vocabulary."
   ]
  },
  {
   "cell_type": "code",
   "execution_count": 19,
   "id": "24b0e1c5",
   "metadata": {},
   "outputs": [
    {
     "data": {
      "text/plain": [
       "array(['aa', 'aaa', 'aamir', ..., 'zubov', 'zx', 'zz'], dtype=object)"
      ]
     },
     "execution_count": 19,
     "metadata": {},
     "output_type": "execute_result"
    }
   ],
   "source": [
    "vectorizer.get_feature_names_out()"
   ]
  },
  {
   "cell_type": "code",
   "execution_count": 20,
   "id": "7ee18ed0",
   "metadata": {},
   "outputs": [],
   "source": [
    "num_features = len(vectorizer.get_feature_names_out())"
   ]
  },
  {
   "cell_type": "markdown",
   "id": "f6d57b38",
   "metadata": {},
   "source": [
    "For example, the word `naive` has the index 4044."
   ]
  },
  {
   "cell_type": "code",
   "execution_count": 21,
   "id": "87ace193",
   "metadata": {},
   "outputs": [
    {
     "data": {
      "text/plain": [
       "array([4299], dtype=int64)"
      ]
     },
     "execution_count": 21,
     "metadata": {},
     "output_type": "execute_result"
    }
   ],
   "source": [
    "naive_id = np.where(vectorizer.get_feature_names_out() == 'naive')[0]\n",
    "naive_id"
   ]
  },
  {
   "cell_type": "code",
   "execution_count": 22,
   "id": "470801fa",
   "metadata": {},
   "outputs": [
    {
     "data": {
      "text/plain": [
       "(0.2486395981582252,\n",
       " 0.2503139388865634,\n",
       " 0.24989535370447885,\n",
       " 0.25115110925073253)"
      ]
     },
     "execution_count": 22,
     "metadata": {},
     "output_type": "execute_result"
    }
   ],
   "source": [
    "y0 = len([a for a in y_train if a == 0])/len(y_train)\n",
    "y1 = len([a for a in y_train if a == 1])/len(y_train)\n",
    "y2 = len([a for a in y_train if a == 2])/len(y_train)\n",
    "y3 = len([a for a in y_train if a == 3])/len(y_train)\n",
    "\n",
    "y0, y1, y2, y3"
   ]
  },
  {
   "cell_type": "code",
   "execution_count": 23,
   "id": "1fb04ae7",
   "metadata": {},
   "outputs": [
    {
     "data": {
      "text/plain": [
       "(1.1328113356083243, 1.8207692537937494, 1.1289206212980532)"
      ]
     },
     "execution_count": 23,
     "metadata": {},
     "output_type": "execute_result"
    }
   ],
   "source": [
    "alpha = 1e-5\n",
    "x1y0 = np.log((len([i for i in range(len(y_train)) if y_train[i] == 0 and D[i, naive_id] == 1]) + alpha)/(y0 + alpha * num_features))\n",
    "x1y1 = np.log((len([i for i in range(len(y_train)) if y_train[i] == 1 and D[i, naive_id] == 1]) + alpha)/(y1 + alpha * num_features))\n",
    "x1y2 = np.log((len([i for i in range(len(y_train)) if y_train[i] == 2 and D[i, naive_id] == 1]) + alpha)/(y2 + alpha * num_features))\n",
    "x1y0, x1y1, x1y2"
   ]
  },
  {
   "cell_type": "markdown",
   "id": "9daf68a3",
   "metadata": {},
   "source": [
    "## Decision Tree"
   ]
  },
  {
   "cell_type": "code",
   "execution_count": 24,
   "id": "f6962d9d",
   "metadata": {},
   "outputs": [],
   "source": [
    "from sklearn.datasets import load_iris\n",
    "iris = load_iris()\n",
    "D, y = iris.data, iris.target"
   ]
  },
  {
   "cell_type": "code",
   "execution_count": 25,
   "id": "07aca608",
   "metadata": {},
   "outputs": [
    {
     "name": "stdout",
     "output_type": "stream",
     "text": [
      ".. _iris_dataset:\n",
      "\n",
      "Iris plants dataset\n",
      "--------------------\n",
      "\n",
      "**Data Set Characteristics:**\n",
      "\n",
      ":Number of Instances: 150 (50 in each of three classes)\n",
      ":Number of Attributes: 4 numeric, predictive attributes and the class\n",
      ":Attribute Information:\n",
      "    - sepal length in cm\n",
      "    - sepal width in cm\n",
      "    - petal length in cm\n",
      "    - petal width in cm\n",
      "    - class:\n",
      "            - Iris-Setosa\n",
      "            - Iris-Versicolour\n",
      "            - Iris-Virginica\n",
      "\n",
      ":Summary Statistics:\n",
      "\n",
      "============== ==== ==== ======= ===== ====================\n",
      "                Min  Max   Mean    SD   Class Correlation\n",
      "============== ==== ==== ======= ===== ====================\n",
      "sepal length:   4.3  7.9   5.84   0.83    0.7826\n",
      "sepal width:    2.0  4.4   3.05   0.43   -0.4194\n",
      "petal length:   1.0  6.9   3.76   1.76    0.9490  (high!)\n",
      "petal width:    0.1  2.5   1.20   0.76    0.9565  (high!)\n",
      "============== ==== ==== ======= ===== ====================\n",
      "\n",
      ":Missing Attribute Values: None\n",
      ":Class Distribution: 33.3% for each of 3 classes.\n",
      ":Creator: R.A. Fisher\n",
      ":Donor: Michael Marshall (MARSHALL%PLU@io.arc.nasa.gov)\n",
      ":Date: July, 1988\n",
      "\n",
      "The famous Iris database, first used by Sir R.A. Fisher. The dataset is taken\n",
      "from Fisher's paper. Note that it's the same as in R, but not as in the UCI\n",
      "Machine Learning Repository, which has two wrong data points.\n",
      "\n",
      "This is perhaps the best known database to be found in the\n",
      "pattern recognition literature.  Fisher's paper is a classic in the field and\n",
      "is referenced frequently to this day.  (See Duda & Hart, for example.)  The\n",
      "data set contains 3 classes of 50 instances each, where each class refers to a\n",
      "type of iris plant.  One class is linearly separable from the other 2; the\n",
      "latter are NOT linearly separable from each other.\n",
      "\n",
      "|details-start|\n",
      "**References**\n",
      "|details-split|\n",
      "\n",
      "- Fisher, R.A. \"The use of multiple measurements in taxonomic problems\"\n",
      "  Annual Eugenics, 7, Part II, 179-188 (1936); also in \"Contributions to\n",
      "  Mathematical Statistics\" (John Wiley, NY, 1950).\n",
      "- Duda, R.O., & Hart, P.E. (1973) Pattern Classification and Scene Analysis.\n",
      "  (Q327.D83) John Wiley & Sons.  ISBN 0-471-22361-1.  See page 218.\n",
      "- Dasarathy, B.V. (1980) \"Nosing Around the Neighborhood: A New System\n",
      "  Structure and Classification Rule for Recognition in Partially Exposed\n",
      "  Environments\".  IEEE Transactions on Pattern Analysis and Machine\n",
      "  Intelligence, Vol. PAMI-2, No. 1, 67-71.\n",
      "- Gates, G.W. (1972) \"The Reduced Nearest Neighbor Rule\".  IEEE Transactions\n",
      "  on Information Theory, May 1972, 431-433.\n",
      "- See also: 1988 MLC Proceedings, 54-64.  Cheeseman et al\"s AUTOCLASS II\n",
      "  conceptual clustering system finds 3 classes in the data.\n",
      "- Many, many more ...\n",
      "\n",
      "|details-end|\n",
      "\n"
     ]
    }
   ],
   "source": [
    "print(iris.DESCR)"
   ]
  },
  {
   "cell_type": "code",
   "execution_count": 26,
   "id": "b2a56f88",
   "metadata": {},
   "outputs": [],
   "source": [
    "def gini_imp(y):\n",
    "    temp = 0\n",
    "    for i in range(3):\n",
    "        temp += (len([a for a in y if a == i])/len(y))**2\n",
    "    g_impurity = 1 - temp\n",
    "    return g_impurity"
   ]
  },
  {
   "cell_type": "code",
   "execution_count": 27,
   "id": "7f615356",
   "metadata": {},
   "outputs": [
    {
     "data": {
      "text/plain": [
       "0.6666666666666667"
      ]
     },
     "execution_count": 27,
     "metadata": {},
     "output_type": "execute_result"
    }
   ],
   "source": [
    "gini_imp(y)"
   ]
  },
  {
   "cell_type": "code",
   "execution_count": 28,
   "id": "0264a38a",
   "metadata": {},
   "outputs": [
    {
     "data": {
      "text/plain": [
       "array([5.1, 3.5, 1.4, 0.2])"
      ]
     },
     "execution_count": 28,
     "metadata": {},
     "output_type": "execute_result"
    }
   ],
   "source": [
    "D[0]"
   ]
  },
  {
   "cell_type": "code",
   "execution_count": 29,
   "id": "f7f001a1",
   "metadata": {},
   "outputs": [
    {
     "name": "stdout",
     "output_type": "stream",
     "text": [
      "-0.17476190476190478\n"
     ]
    }
   ],
   "source": [
    "small_sep_id = []\n",
    "big_sep_id = []\n",
    "for i in range(150):\n",
    "    if(D[i][0] <= 5.84):\n",
    "        small_sep_id.append(i)\n",
    "    else:\n",
    "        big_sep_id.append(i)\n",
    "#print(small_sep_id)\n",
    "#print(big_sep_id)\n",
    "y_small = [y[j] for j in small_sep_id]\n",
    "y_big = [y[j] for j in big_sep_id]\n",
    "#print(gini_imp(y_small))\n",
    "#print(gini_imp(y_big))\n",
    "cost = (len(small_sep_id)/150 * gini_imp(y_small) + len(big_sep_id)/150 * gini_imp(y_big)) - gini_imp(y)\n",
    "print(cost)"
   ]
  },
  {
   "cell_type": "markdown",
   "id": "13e24eba",
   "metadata": {},
   "source": [
    "## SVM"
   ]
  },
  {
   "cell_type": "code",
   "execution_count": 30,
   "id": "c132e3a4",
   "metadata": {},
   "outputs": [],
   "source": [
    "# Standard scientific Python imports\n",
    "import matplotlib.pyplot as plt\n",
    "\n",
    "from sklearn import datasets\n",
    "from sklearn.model_selection import train_test_split"
   ]
  },
  {
   "cell_type": "code",
   "execution_count": 31,
   "id": "b7946aaa",
   "metadata": {},
   "outputs": [
    {
     "data": {
      "image/png": "[encoded data removed]",
      "text/plain": [
       "<Figure size 1000x300 with 4 Axes>"
      ]
     },
     "metadata": {},
     "output_type": "display_data"
    }
   ],
   "source": [
    "digits = datasets.load_digits()\n",
    "\n",
    "_, axes = plt.subplots(nrows=1, ncols=4, figsize=(10, 3))\n",
    "for ax, image, label in zip(axes, digits.images, digits.target):\n",
    "    ax.set_axis_off()\n",
    "    ax.imshow(image, cmap=plt.cm.gray_r, interpolation=\"nearest\")\n",
    "    ax.set_title(\"Label %i\" % label)"
   ]
  },
  {
   "cell_type": "code",
   "execution_count": 32,
   "id": "08ceaddc",
   "metadata": {},
   "outputs": [],
   "source": [
    "# flatten the images\n",
    "n = len(digits.images)\n",
    "D = digits.images.reshape((n, -1))\n",
    "y = digits.target\n",
    "\n",
    "# Split data into 70% train and 30% test subsets\n",
    "D_train, D_test, y_train, y_test = train_test_split(\n",
    "    D, y, test_size=0.3, shuffle=False\n",
    ")"
   ]
  },
  {
   "cell_type": "code",
   "execution_count": 33,
   "id": "ed77a736",
   "metadata": {},
   "outputs": [
    {
     "name": "stdout",
     "output_type": "stream",
     "text": [
      "0.9629629629629629\n"
     ]
    }
   ],
   "source": [
    "from sklearn.svm import SVC\n",
    "svc = SVC(kernel='rbf', gamma=0.0008, C=0.9)\n",
    "model = svc.fit(D_train, y_train)\n",
    "print(svc.score(D_test, y_test))"
   ]
  },
  {
   "cell_type": "code",
   "execution_count": 34,
   "id": "2177cc39",
   "metadata": {},
   "outputs": [
    {
     "data": {
      "text/plain": [
       "112"
      ]
     },
     "execution_count": 34,
     "metadata": {},
     "output_type": "execute_result"
    }
   ],
   "source": [
    "# Calculate how many supporting vectors classes 0 and 1 have in total\n",
    "# Supporting vectors between other classes are included\n",
    "supporting_vectors = svc.n_support_\n",
    "all_supporting_vectors_0_1 = supporting_vectors[0] + supporting_vectors[1]\n",
    "all_supporting_vectors_0_1"
   ]
  }
 ],
 "metadata": {
  "kernelspec": {
   "display_name": "Python 3",
   "language": "python",
   "name": "python3"
  },
  "language_info": {
   "codemirror_mode": {
    "name": "ipython",
    "version": 3
   },
   "file_extension": ".py",
   "mimetype": "text/x-python",
   "name": "python",
   "nbconvert_exporter": "python",
   "pygments_lexer": "ipython3",
   "version": "3.12.2"
  }
 },
 "nbformat": 4,
 "nbformat_minor": 5
}
